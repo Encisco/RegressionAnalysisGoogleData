{
 "cells": [
  {
   "cell_type": "code",
   "execution_count": 1,
   "metadata": {
    "colab": {},
    "colab_type": "code",
    "id": "ERxgsHMgT5Mc"
   },
   "outputs": [
    {
     "name": "stderr",
     "output_type": "stream",
     "text": [
      "C:\\ProgramData\\Anaconda3\\lib\\site-packages\\sklearn\\ensemble\\weight_boosting.py:29: DeprecationWarning: numpy.core.umath_tests is an internal NumPy module and should not be imported. It will be removed in a future NumPy release.\n",
      "  from numpy.core.umath_tests import inner1d\n"
     ]
    }
   ],
   "source": [
    "# Linear Regression, Ridge Regression and Gradient Boosting Tree forecasting based on a small slice of Google stock prices.\n",
    "\n",
    "\n",
    "import numpy as np\n",
    "import pandas as pd\n",
    "import matplotlib.pyplot as plt\n",
    "\n",
    "# Modeling\n",
    "from sklearn.linear_model import LinearRegression, Ridge, Lasso\n",
    "from sklearn import preprocessing\n",
    "from sklearn.model_selection import train_test_split\n",
    "from sklearn.ensemble import GradientBoostingRegressor\n",
    "\n",
    "# Modeling Metrics\n",
    "from sklearn import metrics"
   ]
  },
  {
   "cell_type": "code",
   "execution_count": 0,
   "metadata": {
    "colab": {},
    "colab_type": "code",
    "id": "mgpakN51VnU0"
   },
   "outputs": [],
   "source": [
    "# uploading the data from local drive.\n",
    "\n",
    "# from google.colab import files"
   ]
  },
  {
   "cell_type": "code",
   "execution_count": 3,
   "metadata": {
    "colab": {
     "base_uri": "https://localhost:8080/",
     "height": 74,
     "resources": {
      "http://localhost:8080/nbextensions/google.colab/files.js": {
       "data": "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",
       "headers": [
        [
         "content-type",
         "application/javascript"
        ]
       ],
       "ok": true,
       "status": 200,
       "status_text": ""
      }
     }
    },
    "colab_type": "code",
    "executionInfo": {
     "elapsed": 12726,
     "status": "ok",
     "timestamp": 1568597638644,
     "user": {
      "displayName": "Lisa Encisco",
      "photoUrl": "https://lh3.googleusercontent.com/a-/AAuE7mATTtI7yB_70g84GmNyQ9SAwsDvp--UpDS5Mif2iw=s64",
      "userId": "12122677652626229136"
     },
     "user_tz": 420
    },
    "id": "4TGk1Vl_blFd",
    "outputId": "ecc6f731-70fd-43d6-be5f-c3c53c063328"
   },
   "outputs": [
    {
     "data": {
      "text/html": [
       "\n",
       "     <input type=\"file\" id=\"files-adc716d1-215c-47f4-a93a-be911cf99d6b\" name=\"files[]\" multiple disabled />\n",
       "     <output id=\"result-adc716d1-215c-47f4-a93a-be911cf99d6b\">\n",
       "      Upload widget is only available when the cell has been executed in the\n",
       "      current browser session. Please rerun this cell to enable.\n",
       "      </output>\n",
       "      <script src=\"/nbextensions/google.colab/files.js\"></script> "
      ],
      "text/plain": [
       "<IPython.core.display.HTML object>"
      ]
     },
     "metadata": {
      "tags": []
     },
     "output_type": "display_data"
    },
    {
     "name": "stdout",
     "output_type": "stream",
     "text": [
      "Saving GOOG_1.csv to GOOG_1.csv\n"
     ]
    }
   ],
   "source": [
    "# uploaded = files.upload()"
   ]
  },
  {
   "cell_type": "code",
   "execution_count": 2,
   "metadata": {
    "colab": {},
    "colab_type": "code",
    "id": "dsXu-bs0bptr"
   },
   "outputs": [],
   "source": [
    "df = pd.read_csv('GOOG_1.csv') \n",
    "df.set_index('Date', inplace=True)"
   ]
  },
  {
   "cell_type": "code",
   "execution_count": 5,
   "metadata": {
    "colab": {
     "base_uri": "https://localhost:8080/",
     "height": 34
    },
    "colab_type": "code",
    "executionInfo": {
     "elapsed": 857,
     "status": "ok",
     "timestamp": 1568597653077,
     "user": {
      "displayName": "Lisa Encisco",
      "photoUrl": "https://lh3.googleusercontent.com/a-/AAuE7mATTtI7yB_70g84GmNyQ9SAwsDvp--UpDS5Mif2iw=s64",
      "userId": "12122677652626229136"
     },
     "user_tz": 420
    },
    "id": "VkH7tummeAqP",
    "outputId": "b2817670-17a8-4ec1-ef06-37e192a7bba4"
   },
   "outputs": [
    {
     "data": {
      "text/plain": [
       "(252, 6)"
      ]
     },
     "execution_count": 5,
     "metadata": {
      "tags": []
     },
     "output_type": "execute_result"
    }
   ],
   "source": [
    "df.shape"
   ]
  },
  {
   "cell_type": "code",
   "execution_count": 6,
   "metadata": {
    "colab": {
     "base_uri": "https://localhost:8080/",
     "height": 235
    },
    "colab_type": "code",
    "executionInfo": {
     "elapsed": 852,
     "status": "ok",
     "timestamp": 1568597655206,
     "user": {
      "displayName": "Lisa Encisco",
      "photoUrl": "https://lh3.googleusercontent.com/a-/AAuE7mATTtI7yB_70g84GmNyQ9SAwsDvp--UpDS5Mif2iw=s64",
      "userId": "12122677652626229136"
     },
     "user_tz": 420
    },
    "id": "SBXW2e9meHo3",
    "outputId": "95173885-4b4f-4ec3-db02-ee48548a97e9"
   },
   "outputs": [
    {
     "data": {
      "text/html": [
       "<div>\n",
       "<style scoped>\n",
       "    .dataframe tbody tr th:only-of-type {\n",
       "        vertical-align: middle;\n",
       "    }\n",
       "\n",
       "    .dataframe tbody tr th {\n",
       "        vertical-align: top;\n",
       "    }\n",
       "\n",
       "    .dataframe thead th {\n",
       "        text-align: right;\n",
       "    }\n",
       "</style>\n",
       "<table border=\"1\" class=\"dataframe\">\n",
       "  <thead>\n",
       "    <tr style=\"text-align: right;\">\n",
       "      <th></th>\n",
       "      <th>Open</th>\n",
       "      <th>High</th>\n",
       "      <th>Low</th>\n",
       "      <th>Close</th>\n",
       "      <th>Adj Close</th>\n",
       "      <th>Volume</th>\n",
       "    </tr>\n",
       "    <tr>\n",
       "      <th>Date</th>\n",
       "      <th></th>\n",
       "      <th></th>\n",
       "      <th></th>\n",
       "      <th></th>\n",
       "      <th></th>\n",
       "      <th></th>\n",
       "    </tr>\n",
       "  </thead>\n",
       "  <tbody>\n",
       "    <tr>\n",
       "      <th>2018-09-06</th>\n",
       "      <td>1186.300049</td>\n",
       "      <td>1186.300049</td>\n",
       "      <td>1152.000000</td>\n",
       "      <td>1171.439941</td>\n",
       "      <td>1171.439941</td>\n",
       "      <td>1888500</td>\n",
       "    </tr>\n",
       "    <tr>\n",
       "      <th>2018-09-07</th>\n",
       "      <td>1158.670044</td>\n",
       "      <td>1175.260010</td>\n",
       "      <td>1157.214966</td>\n",
       "      <td>1164.829956</td>\n",
       "      <td>1164.829956</td>\n",
       "      <td>1401300</td>\n",
       "    </tr>\n",
       "    <tr>\n",
       "      <th>2018-09-10</th>\n",
       "      <td>1172.189941</td>\n",
       "      <td>1174.540039</td>\n",
       "      <td>1160.109985</td>\n",
       "      <td>1164.640015</td>\n",
       "      <td>1164.640015</td>\n",
       "      <td>1115400</td>\n",
       "    </tr>\n",
       "    <tr>\n",
       "      <th>2018-09-11</th>\n",
       "      <td>1161.630005</td>\n",
       "      <td>1178.680054</td>\n",
       "      <td>1156.239990</td>\n",
       "      <td>1177.359985</td>\n",
       "      <td>1177.359985</td>\n",
       "      <td>1209300</td>\n",
       "    </tr>\n",
       "    <tr>\n",
       "      <th>2018-09-12</th>\n",
       "      <td>1172.719971</td>\n",
       "      <td>1178.609985</td>\n",
       "      <td>1158.359985</td>\n",
       "      <td>1162.819946</td>\n",
       "      <td>1162.819946</td>\n",
       "      <td>1295500</td>\n",
       "    </tr>\n",
       "  </tbody>\n",
       "</table>\n",
       "</div>"
      ],
      "text/plain": [
       "                   Open         High  ...    Adj Close   Volume\n",
       "Date                                  ...                      \n",
       "2018-09-06  1186.300049  1186.300049  ...  1171.439941  1888500\n",
       "2018-09-07  1158.670044  1175.260010  ...  1164.829956  1401300\n",
       "2018-09-10  1172.189941  1174.540039  ...  1164.640015  1115400\n",
       "2018-09-11  1161.630005  1178.680054  ...  1177.359985  1209300\n",
       "2018-09-12  1172.719971  1178.609985  ...  1162.819946  1295500\n",
       "\n",
       "[5 rows x 6 columns]"
      ]
     },
     "execution_count": 6,
     "metadata": {
      "tags": []
     },
     "output_type": "execute_result"
    }
   ],
   "source": [
    "df.head()"
   ]
  },
  {
   "cell_type": "code",
   "execution_count": 7,
   "metadata": {
    "colab": {
     "base_uri": "https://localhost:8080/",
     "height": 297
    },
    "colab_type": "code",
    "executionInfo": {
     "elapsed": 867,
     "status": "ok",
     "timestamp": 1568597660431,
     "user": {
      "displayName": "Lisa Encisco",
      "photoUrl": "https://lh3.googleusercontent.com/a-/AAuE7mATTtI7yB_70g84GmNyQ9SAwsDvp--UpDS5Mif2iw=s64",
      "userId": "12122677652626229136"
     },
     "user_tz": 420
    },
    "id": "dVC-cr_MeMfm",
    "outputId": "73999b38-1d4b-4a3d-9d20-4dfb48aaa167"
   },
   "outputs": [
    {
     "data": {
      "text/html": [
       "<div>\n",
       "<style scoped>\n",
       "    .dataframe tbody tr th:only-of-type {\n",
       "        vertical-align: middle;\n",
       "    }\n",
       "\n",
       "    .dataframe tbody tr th {\n",
       "        vertical-align: top;\n",
       "    }\n",
       "\n",
       "    .dataframe thead th {\n",
       "        text-align: right;\n",
       "    }\n",
       "</style>\n",
       "<table border=\"1\" class=\"dataframe\">\n",
       "  <thead>\n",
       "    <tr style=\"text-align: right;\">\n",
       "      <th></th>\n",
       "      <th>Open</th>\n",
       "      <th>High</th>\n",
       "      <th>Low</th>\n",
       "      <th>Close</th>\n",
       "      <th>Adj Close</th>\n",
       "      <th>Volume</th>\n",
       "    </tr>\n",
       "  </thead>\n",
       "  <tbody>\n",
       "    <tr>\n",
       "      <th>count</th>\n",
       "      <td>252.000000</td>\n",
       "      <td>252.000000</td>\n",
       "      <td>252.000000</td>\n",
       "      <td>252.000000</td>\n",
       "      <td>252.000000</td>\n",
       "      <td>2.520000e+02</td>\n",
       "    </tr>\n",
       "    <tr>\n",
       "      <th>mean</th>\n",
       "      <td>1129.408314</td>\n",
       "      <td>1140.515273</td>\n",
       "      <td>1117.957536</td>\n",
       "      <td>1129.472696</td>\n",
       "      <td>1129.472696</td>\n",
       "      <td>1.602552e+06</td>\n",
       "    </tr>\n",
       "    <tr>\n",
       "      <th>std</th>\n",
       "      <td>61.289209</td>\n",
       "      <td>59.018441</td>\n",
       "      <td>63.557101</td>\n",
       "      <td>62.120216</td>\n",
       "      <td>62.120216</td>\n",
       "      <td>7.343100e+05</td>\n",
       "    </tr>\n",
       "    <tr>\n",
       "      <th>min</th>\n",
       "      <td>973.900024</td>\n",
       "      <td>1003.539978</td>\n",
       "      <td>970.109985</td>\n",
       "      <td>976.219971</td>\n",
       "      <td>976.219971</td>\n",
       "      <td>6.915000e+05</td>\n",
       "    </tr>\n",
       "    <tr>\n",
       "      <th>25%</th>\n",
       "      <td>1079.867493</td>\n",
       "      <td>1092.682464</td>\n",
       "      <td>1068.087525</td>\n",
       "      <td>1079.680023</td>\n",
       "      <td>1079.680023</td>\n",
       "      <td>1.194475e+06</td>\n",
       "    </tr>\n",
       "    <tr>\n",
       "      <th>50%</th>\n",
       "      <td>1130.579956</td>\n",
       "      <td>1141.875000</td>\n",
       "      <td>1119.025024</td>\n",
       "      <td>1132.075012</td>\n",
       "      <td>1132.075012</td>\n",
       "      <td>1.436100e+06</td>\n",
       "    </tr>\n",
       "    <tr>\n",
       "      <th>75%</th>\n",
       "      <td>1179.294983</td>\n",
       "      <td>1187.681732</td>\n",
       "      <td>1166.490021</td>\n",
       "      <td>1176.160004</td>\n",
       "      <td>1176.160004</td>\n",
       "      <td>1.836225e+06</td>\n",
       "    </tr>\n",
       "    <tr>\n",
       "      <th>max</th>\n",
       "      <td>1274.000000</td>\n",
       "      <td>1289.270020</td>\n",
       "      <td>1266.295044</td>\n",
       "      <td>1287.579956</td>\n",
       "      <td>1287.579956</td>\n",
       "      <td>6.207000e+06</td>\n",
       "    </tr>\n",
       "  </tbody>\n",
       "</table>\n",
       "</div>"
      ],
      "text/plain": [
       "              Open         High  ...    Adj Close        Volume\n",
       "count   252.000000   252.000000  ...   252.000000  2.520000e+02\n",
       "mean   1129.408314  1140.515273  ...  1129.472696  1.602552e+06\n",
       "std      61.289209    59.018441  ...    62.120216  7.343100e+05\n",
       "min     973.900024  1003.539978  ...   976.219971  6.915000e+05\n",
       "25%    1079.867493  1092.682464  ...  1079.680023  1.194475e+06\n",
       "50%    1130.579956  1141.875000  ...  1132.075012  1.436100e+06\n",
       "75%    1179.294983  1187.681732  ...  1176.160004  1.836225e+06\n",
       "max    1274.000000  1289.270020  ...  1287.579956  6.207000e+06\n",
       "\n",
       "[8 rows x 6 columns]"
      ]
     },
     "execution_count": 7,
     "metadata": {
      "tags": []
     },
     "output_type": "execute_result"
    }
   ],
   "source": [
    "df.describe()"
   ]
  },
  {
   "cell_type": "code",
   "execution_count": 8,
   "metadata": {
    "colab": {
     "base_uri": "https://localhost:8080/",
     "height": 295
    },
    "colab_type": "code",
    "executionInfo": {
     "elapsed": 1325,
     "status": "ok",
     "timestamp": 1568597721164,
     "user": {
      "displayName": "Lisa Encisco",
      "photoUrl": "https://lh3.googleusercontent.com/a-/AAuE7mATTtI7yB_70g84GmNyQ9SAwsDvp--UpDS5Mif2iw=s64",
      "userId": "12122677652626229136"
     },
     "user_tz": 420
    },
    "id": "MxGTfTKceQ5M",
    "outputId": "9ac68efc-92db-446e-d13d-5fbc2cf59afb"
   },
   "outputs": [
    {
     "data": {
      "image/png": "[encoded data removed]",
      "text/plain": [
       "<Figure size 1152x288 with 1 Axes>"
      ]
     },
     "metadata": {
      "tags": []
     },
     "output_type": "display_data"
    }
   ],
   "source": [
    "df[\"Adj Close\"].plot(figsize=(16,4), title='Adjusted Closing Price', grid=True)\n",
    "plt.show()"
   ]
  },
  {
   "cell_type": "code",
   "execution_count": 0,
   "metadata": {
    "colab": {},
    "colab_type": "code",
    "id": "SXOqWRQ3kfHN"
   },
   "outputs": [],
   "source": [
    "window_size=32\n",
    "num_samples=len(df)-window_size\n",
    "\n",
    "# Get indices of access for the data\n",
    "indices=np.arange(num_samples).astype(np.int)[:,None]+np.arange(window_size+1).astype(np.int)\n",
    "\n",
    "\n",
    "data = df['Adj Close'].values[indices] # Create the 2D matrix of training samples\n",
    "X = data[:,:-1] # Each row represents 32 days in the past\n",
    "y = data[:,-1] # Each output value represents the 33rd day"
   ]
  },
  {
   "cell_type": "code",
   "execution_count": 0,
   "metadata": {
    "colab": {},
    "colab_type": "code",
    "id": "yJ6aornrkukR"
   },
   "outputs": [],
   "source": [
    "split_fraction=0.8\n",
    "ind_split=int(split_fraction*num_samples)"
   ]
  },
  {
   "cell_type": "code",
   "execution_count": 0,
   "metadata": {
    "colab": {},
    "colab_type": "code",
    "id": "a6nws9WYvNyn"
   },
   "outputs": [],
   "source": [
    "X_train = X[:ind_split]\n",
    "y_train = y[:ind_split]\n",
    "X_test = X[ind_split:]\n",
    "y_test = y[ind_split:]"
   ]
  },
  {
   "cell_type": "code",
   "execution_count": 14,
   "metadata": {
    "colab": {
     "base_uri": "https://localhost:8080/",
     "height": 34
    },
    "colab_type": "code",
    "executionInfo": {
     "elapsed": 876,
     "status": "ok",
     "timestamp": 1568598849761,
     "user": {
      "displayName": "Lisa Encisco",
      "photoUrl": "https://lh3.googleusercontent.com/a-/AAuE7mATTtI7yB_70g84GmNyQ9SAwsDvp--UpDS5Mif2iw=s64",
      "userId": "12122677652626229136"
     },
     "user_tz": 420
    },
    "id": "9__GEzm4vfXr",
    "outputId": "a8ec71d1-73d6-4b02-b26a-32e915861244"
   },
   "outputs": [
    {
     "data": {
      "text/plain": [
       "(44, 32)"
      ]
     },
     "execution_count": 14,
     "metadata": {
      "tags": []
     },
     "output_type": "execute_result"
    }
   ],
   "source": [
    "X_test.shape"
   ]
  },
  {
   "cell_type": "code",
   "execution_count": 15,
   "metadata": {
    "colab": {
     "base_uri": "https://localhost:8080/",
     "height": 34
    },
    "colab_type": "code",
    "executionInfo": {
     "elapsed": 848,
     "status": "ok",
     "timestamp": 1568598872392,
     "user": {
      "displayName": "Lisa Encisco",
      "photoUrl": "https://lh3.googleusercontent.com/a-/AAuE7mATTtI7yB_70g84GmNyQ9SAwsDvp--UpDS5Mif2iw=s64",
      "userId": "12122677652626229136"
     },
     "user_tz": 420
    },
    "id": "p0Qq5g7fwJK5",
    "outputId": "dee834ab-a1c2-45b1-82b6-26e08035e2b5"
   },
   "outputs": [
    {
     "data": {
      "text/plain": [
       "(44,)"
      ]
     },
     "execution_count": 15,
     "metadata": {
      "tags": []
     },
     "output_type": "execute_result"
    }
   ],
   "source": [
    "y_test.shape"
   ]
  },
  {
   "cell_type": "markdown",
   "metadata": {
    "colab_type": "text",
    "id": "vzh_1tzcy31J"
   },
   "source": [
    "**Modeling**"
   ]
  },
  {
   "cell_type": "code",
   "execution_count": 0,
   "metadata": {
    "colab": {},
    "colab_type": "code",
    "id": "atrtdFfoypQY"
   },
   "outputs": [],
   "source": [
    "# Help Functions\n",
    "def get_performance (model_pred):\n",
    "  #Function returns standard performance metrics\n",
    "  print('Mean Absolute Error:', metrics.mean_absolute_error(y_test, model_pred).round(4))  \n",
    "  print('Mean Squared Error:', metrics.mean_squared_error(y_test, model_pred).round(4))  \n",
    "  print('Root Mean Squared Error:', np.sqrt(metrics.mean_squared_error(y_test, model_pred)).round(4))\n",
    "  \n",
    "  \n",
    "  \n",
    "def get_plot (model_pred):\n",
    "  plt.scatter(model_pred, y_test, color=\"gray\")\n",
    "  plt.plot(y_test, y_test, color='red', linewidth=2)"
   ]
  },
  {
   "cell_type": "markdown",
   "metadata": {
    "colab_type": "text",
    "id": "Pb6a8_Rv-i7J"
   },
   "source": [
    "# 0. Lag as Baseline"
   ]
  },
  {
   "cell_type": "code",
   "execution_count": 0,
   "metadata": {
    "colab": {},
    "colab_type": "code",
    "id": "uEu2ahWbzJns"
   },
   "outputs": [],
   "source": [
    "# BASELINE\n",
    "# Let prediction be most recent observation\n",
    "y_pred_lag=np.roll(y_test,1)"
   ]
  },
  {
   "cell_type": "code",
   "execution_count": 20,
   "metadata": {
    "colab": {
     "base_uri": "https://localhost:8080/",
     "height": 68
    },
    "colab_type": "code",
    "executionInfo": {
     "elapsed": 842,
     "status": "ok",
     "timestamp": 1568599545732,
     "user": {
      "displayName": "Lisa Encisco",
      "photoUrl": "https://lh3.googleusercontent.com/a-/AAuE7mATTtI7yB_70g84GmNyQ9SAwsDvp--UpDS5Mif2iw=s64",
      "userId": "12122677652626229136"
     },
     "user_tz": 420
    },
    "id": "KtLlq8zA0V3N",
    "outputId": "47939941-0dff-4ac8-c0b3-968f53a157c5"
   },
   "outputs": [
    {
     "name": "stdout",
     "output_type": "stream",
     "text": [
      "Mean Absolute Error: 17.045\n",
      "Mean Squared Error: 753.6997\n",
      "Root Mean Squared Error: 27.4536\n"
     ]
    }
   ],
   "source": [
    "get_performance(y_pred_lag)"
   ]
  },
  {
   "cell_type": "code",
   "execution_count": 36,
   "metadata": {
    "colab": {
     "base_uri": "https://localhost:8080/",
     "height": 295
    },
    "colab_type": "code",
    "executionInfo": {
     "elapsed": 908,
     "status": "ok",
     "timestamp": 1568601729429,
     "user": {
      "displayName": "Lisa Encisco",
      "photoUrl": "https://lh3.googleusercontent.com/a-/AAuE7mATTtI7yB_70g84GmNyQ9SAwsDvp--UpDS5Mif2iw=s64",
      "userId": "12122677652626229136"
     },
     "user_tz": 420
    },
    "id": "il3zn5wq0ZP9",
    "outputId": "a5244623-740c-4553-e7f3-83a087761529"
   },
   "outputs": [
    {
     "data": {
      "image/png": "[encoded data removed]",
      "text/plain": [
       "<Figure size 432x288 with 1 Axes>"
      ]
     },
     "metadata": {
      "tags": []
     },
     "output_type": "display_data"
    }
   ],
   "source": [
    "get_plot(y_pred_lag)\n",
    "plt.title('Baseline')\n",
    "plt.xlabel('Actual')\n",
    "plt.ylabel('Predicted')\n",
    "plt.show()"
   ]
  },
  {
   "cell_type": "markdown",
   "metadata": {
    "colab_type": "text",
    "id": "e5RoS5g72Tfq"
   },
   "source": [
    "# 1. Linear Regression"
   ]
  },
  {
   "cell_type": "code",
   "execution_count": 25,
   "metadata": {
    "colab": {
     "base_uri": "https://localhost:8080/",
     "height": 34
    },
    "colab_type": "code",
    "executionInfo": {
     "elapsed": 879,
     "status": "ok",
     "timestamp": 1568600189171,
     "user": {
      "displayName": "Lisa Encisco",
      "photoUrl": "https://lh3.googleusercontent.com/a-/AAuE7mATTtI7yB_70g84GmNyQ9SAwsDvp--UpDS5Mif2iw=s64",
      "userId": "12122677652626229136"
     },
     "user_tz": 420
    },
    "id": "kQ33O7gJ2cg-",
    "outputId": "91b76fe1-0f92-4289-c330-a3bf5d6d4827"
   },
   "outputs": [
    {
     "data": {
      "text/plain": [
       "LinearRegression(copy_X=True, fit_intercept=True, n_jobs=None, normalize=False)"
      ]
     },
     "execution_count": 25,
     "metadata": {
      "tags": []
     },
     "output_type": "execute_result"
    }
   ],
   "source": [
    "model_lr=LinearRegression()\n",
    "model_lr.fit(X_train, y_train)"
   ]
  },
  {
   "cell_type": "code",
   "execution_count": 0,
   "metadata": {
    "colab": {},
    "colab_type": "code",
    "id": "0dYm05SE22VP"
   },
   "outputs": [],
   "source": [
    "y_pred_lr=model_lr.predict(X_test)"
   ]
  },
  {
   "cell_type": "code",
   "execution_count": 28,
   "metadata": {
    "colab": {
     "base_uri": "https://localhost:8080/",
     "height": 68
    },
    "colab_type": "code",
    "executionInfo": {
     "elapsed": 849,
     "status": "ok",
     "timestamp": 1568600273433,
     "user": {
      "displayName": "Lisa Encisco",
      "photoUrl": "https://lh3.googleusercontent.com/a-/AAuE7mATTtI7yB_70g84GmNyQ9SAwsDvp--UpDS5Mif2iw=s64",
      "userId": "12122677652626229136"
     },
     "user_tz": 420
    },
    "id": "X9H4zsyj3An7",
    "outputId": "22b6eb0a-5b53-4f94-a89b-b2b6ddd7b0f0"
   },
   "outputs": [
    {
     "name": "stdout",
     "output_type": "stream",
     "text": [
      "Mean Absolute Error: 17.1813\n",
      "Mean Squared Error: 615.9574\n",
      "Root Mean Squared Error: 24.8185\n"
     ]
    }
   ],
   "source": [
    "get_performance(y_pred_lr)"
   ]
  },
  {
   "cell_type": "code",
   "execution_count": 35,
   "metadata": {
    "colab": {
     "base_uri": "https://localhost:8080/",
     "height": 295
    },
    "colab_type": "code",
    "executionInfo": {
     "elapsed": 908,
     "status": "ok",
     "timestamp": 1568601694378,
     "user": {
      "displayName": "Lisa Encisco",
      "photoUrl": "https://lh3.googleusercontent.com/a-/AAuE7mATTtI7yB_70g84GmNyQ9SAwsDvp--UpDS5Mif2iw=s64",
      "userId": "12122677652626229136"
     },
     "user_tz": 420
    },
    "id": "JPf-V9bq3K6W",
    "outputId": "e3f213b8-ea59-4d6a-c5af-63427f810f88"
   },
   "outputs": [
    {
     "data": {
      "image/png": "[encoded data removed]",
      "text/plain": [
       "<Figure size 432x288 with 1 Axes>"
      ]
     },
     "metadata": {
      "tags": []
     },
     "output_type": "display_data"
    }
   ],
   "source": [
    "get_plot(y_pred_lr)\n",
    "plt.title('Linear Regression')\n",
    "plt.xlabel('Actual')\n",
    "plt.ylabel('Predicted')\n",
    "plt.show()"
   ]
  },
  {
   "cell_type": "markdown",
   "metadata": {
    "colab_type": "text",
    "id": "Im9SNKef4xQq"
   },
   "source": [
    "# 2. Ridge Regression"
   ]
  },
  {
   "cell_type": "code",
   "execution_count": 0,
   "metadata": {
    "colab": {},
    "colab_type": "code",
    "id": "jiSAl1Ze4_Bk"
   },
   "outputs": [],
   "source": [
    "model_ridge = Ridge()\n",
    "model_ridge.fit(X_train, y_train)\n",
    "\n",
    "#generate predictions\n",
    "y_pred_ridge=model_ridge.predict(X_test)"
   ]
  },
  {
   "cell_type": "code",
   "execution_count": 33,
   "metadata": {
    "colab": {
     "base_uri": "https://localhost:8080/",
     "height": 68
    },
    "colab_type": "code",
    "executionInfo": {
     "elapsed": 868,
     "status": "ok",
     "timestamp": 1568600817892,
     "user": {
      "displayName": "Lisa Encisco",
      "photoUrl": "https://lh3.googleusercontent.com/a-/AAuE7mATTtI7yB_70g84GmNyQ9SAwsDvp--UpDS5Mif2iw=s64",
      "userId": "12122677652626229136"
     },
     "user_tz": 420
    },
    "id": "uK21KzJZ4q02",
    "outputId": "4959f664-e87c-4fec-ee54-ac93774040ff"
   },
   "outputs": [
    {
     "name": "stdout",
     "output_type": "stream",
     "text": [
      "Mean Absolute Error: 17.1811\n",
      "Mean Squared Error: 615.9516\n",
      "Root Mean Squared Error: 24.8184\n"
     ]
    }
   ],
   "source": [
    "get_performance(y_pred_ridge)"
   ]
  },
  {
   "cell_type": "code",
   "execution_count": 38,
   "metadata": {
    "colab": {
     "base_uri": "https://localhost:8080/",
     "height": 295
    },
    "colab_type": "code",
    "executionInfo": {
     "elapsed": 908,
     "status": "ok",
     "timestamp": 1568601778335,
     "user": {
      "displayName": "Lisa Encisco",
      "photoUrl": "https://lh3.googleusercontent.com/a-/AAuE7mATTtI7yB_70g84GmNyQ9SAwsDvp--UpDS5Mif2iw=s64",
      "userId": "12122677652626229136"
     },
     "user_tz": 420
    },
    "id": "Xzr-CQ8x5P1J",
    "outputId": "5574173b-7cf5-4ec5-866d-1ce1126432ab"
   },
   "outputs": [
    {
     "data": {
      "image/png": "[encoded data removed]",
      "text/plain": [
       "<Figure size 432x288 with 1 Axes>"
      ]
     },
     "metadata": {
      "tags": []
     },
     "output_type": "display_data"
    }
   ],
   "source": [
    "get_plot(y_pred_ridge)\n",
    "plt.title('Ridge Regression')\n",
    "plt.xlabel('Actual')\n",
    "plt.ylabel('Predicted')\n",
    "plt.show()"
   ]
  },
  {
   "cell_type": "markdown",
   "metadata": {
    "colab_type": "text",
    "id": "xtC17apS7T4i"
   },
   "source": [
    "# 3. Gradient Boosting Trees"
   ]
  },
  {
   "cell_type": "code",
   "execution_count": 0,
   "metadata": {
    "colab": {},
    "colab_type": "code",
    "id": "nvYIqapI7WXf"
   },
   "outputs": [],
   "source": [
    "model_gb = GradientBoostingRegressor()\n",
    "model_gb.fit(X_train, y_train)\n",
    "\n",
    "# Infer\n",
    "y_pred_gb = model_gb.predict(X_test)"
   ]
  },
  {
   "cell_type": "code",
   "execution_count": 40,
   "metadata": {
    "colab": {
     "base_uri": "https://localhost:8080/",
     "height": 68
    },
    "colab_type": "code",
    "executionInfo": {
     "elapsed": 852,
     "status": "ok",
     "timestamp": 1568601837746,
     "user": {
      "displayName": "Lisa Encisco",
      "photoUrl": "https://lh3.googleusercontent.com/a-/AAuE7mATTtI7yB_70g84GmNyQ9SAwsDvp--UpDS5Mif2iw=s64",
      "userId": "12122677652626229136"
     },
     "user_tz": 420
    },
    "id": "GrhOxMbg9Fn1",
    "outputId": "3872899d-8e5d-4606-b66b-333d684d65f2"
   },
   "outputs": [
    {
     "name": "stdout",
     "output_type": "stream",
     "text": [
      "Mean Absolute Error: 16.0332\n",
      "Mean Squared Error: 630.8655\n",
      "Root Mean Squared Error: 25.117\n"
     ]
    }
   ],
   "source": [
    "get_performance(y_pred_gb)"
   ]
  },
  {
   "cell_type": "code",
   "execution_count": 41,
   "metadata": {
    "colab": {
     "base_uri": "https://localhost:8080/",
     "height": 295
    },
    "colab_type": "code",
    "executionInfo": {
     "elapsed": 925,
     "status": "ok",
     "timestamp": 1568601886280,
     "user": {
      "displayName": "Lisa Encisco",
      "photoUrl": "https://lh3.googleusercontent.com/a-/AAuE7mATTtI7yB_70g84GmNyQ9SAwsDvp--UpDS5Mif2iw=s64",
      "userId": "12122677652626229136"
     },
     "user_tz": 420
    },
    "id": "yt3CUu5N9I0k",
    "outputId": "784f5537-16e1-483b-9337-3e3096be3e66"
   },
   "outputs": [
    {
     "data": {
      "image/png": "[encoded data removed]",
      "text/plain": [
       "<Figure size 432x288 with 1 Axes>"
      ]
     },
     "metadata": {
      "tags": []
     },
     "output_type": "display_data"
    }
   ],
   "source": [
    "get_plot(y_pred_gb)\n",
    "plt.title('Gradient Boosting Trees')\n",
    "plt.xlabel('Actual')\n",
    "plt.ylabel('Predicted')\n",
    "plt.show()"
   ]
  },
  {
   "cell_type": "markdown",
   "metadata": {
    "colab_type": "text",
    "id": "zLn05zYv_yz1"
   },
   "source": [
    "# Comparison"
   ]
  },
  {
   "cell_type": "code",
   "execution_count": 51,
   "metadata": {
    "colab": {
     "base_uri": "https://localhost:8080/",
     "height": 136
    },
    "colab_type": "code",
    "executionInfo": {
     "elapsed": 851,
     "status": "ok",
     "timestamp": 1568603015924,
     "user": {
      "displayName": "Lisa Encisco",
      "photoUrl": "https://lh3.googleusercontent.com/a-/AAuE7mATTtI7yB_70g84GmNyQ9SAwsDvp--UpDS5Mif2iw=s64",
      "userId": "12122677652626229136"
     },
     "user_tz": 420
    },
    "id": "gi4UEKM_BQql",
    "outputId": "9c944aaf-06ca-4dad-90d0-7f03be6c08f5"
   },
   "outputs": [
    {
     "data": {
      "text/plain": [
       "array([-0.01526944,  0.0900222 ,  0.02057276, -0.12342952,  0.09939413,\n",
       "       -0.21876921,  0.05604134,  0.04703213, -0.14208517,  0.17385053,\n",
       "       -0.03100146,  0.05141291, -0.01586865, -0.13276448,  0.04377869,\n",
       "        0.02738909,  0.03243901,  0.06300389, -0.11052213,  0.0441546 ,\n",
       "        0.14147085, -0.20908505,  0.0376017 ,  0.15905734, -0.20461903,\n",
       "        0.15004937, -0.02294778, -0.04385291,  0.15354354,  0.01278684,\n",
       "       -0.13189869,  0.94294711])"
      ]
     },
     "execution_count": 51,
     "metadata": {
      "tags": []
     },
     "output_type": "execute_result"
    }
   ],
   "source": [
    "model_lr.coef_"
   ]
  },
  {
   "cell_type": "code",
   "execution_count": 52,
   "metadata": {
    "colab": {
     "base_uri": "https://localhost:8080/",
     "height": 136
    },
    "colab_type": "code",
    "executionInfo": {
     "elapsed": 867,
     "status": "ok",
     "timestamp": 1568603031269,
     "user": {
      "displayName": "Lisa Encisco",
      "photoUrl": "https://lh3.googleusercontent.com/a-/AAuE7mATTtI7yB_70g84GmNyQ9SAwsDvp--UpDS5Mif2iw=s64",
      "userId": "12122677652626229136"
     },
     "user_tz": 420
    },
    "id": "FmJFW__YBrlr",
    "outputId": "8d7b97a1-18b8-4b4c-b225-1907ac3c2ad8"
   },
   "outputs": [
    {
     "data": {
      "text/plain": [
       "array([-0.01526394,  0.09001403,  0.02057576, -0.12342574,  0.09938072,\n",
       "       -0.21875609,  0.05603455,  0.04702927, -0.14207477,  0.17383906,\n",
       "       -0.03099108,  0.05140994, -0.01587635, -0.13275445,  0.04377376,\n",
       "        0.02738804,  0.03244723,  0.06299244, -0.11051559,  0.04416118,\n",
       "        0.14145574, -0.20907485,  0.03760495,  0.15904194, -0.20460089,\n",
       "        0.15003961, -0.02294948, -0.04383983,  0.15353238,  0.01278736,\n",
       "       -0.13187564,  0.94292418])"
      ]
     },
     "execution_count": 52,
     "metadata": {
      "tags": []
     },
     "output_type": "execute_result"
    }
   ],
   "source": [
    "model_ridge.coef_"
   ]
  },
  {
   "cell_type": "markdown",
   "metadata": {
    "colab_type": "text",
    "id": "Li7lYMOLDEBd"
   },
   "source": [
    "Note the \"last value\" feature weights are by far the highest for linear regression and ridge regression at 0.943 (last entry of the coefficient matrix)."
   ]
  },
  {
   "cell_type": "code",
   "execution_count": 0,
   "metadata": {
    "colab": {},
    "colab_type": "code",
    "id": "9Nfxu2js_0eK"
   },
   "outputs": [],
   "source": [
    "df_comp=pd.DataFrame({\"lag\":np.absolute(y_test-y_pred_lag), \n",
    "              \"lr\":np.absolute(y_test-y_pred_lr), \n",
    "              \"ridge\":np.absolute(y_test-y_pred_ridge),\n",
    "              \"gb\":np.absolute(y_test-y_pred_gb)})"
   ]
  },
  {
   "cell_type": "code",
   "execution_count": 55,
   "metadata": {
    "colab": {
     "base_uri": "https://localhost:8080/",
     "height": 393
    },
    "colab_type": "code",
    "executionInfo": {
     "elapsed": 1283,
     "status": "ok",
     "timestamp": 1568604380115,
     "user": {
      "displayName": "Lisa Encisco",
      "photoUrl": "https://lh3.googleusercontent.com/a-/AAuE7mATTtI7yB_70g84GmNyQ9SAwsDvp--UpDS5Mif2iw=s64",
      "userId": "12122677652626229136"
     },
     "user_tz": 420
    },
    "id": "F25aVVPB_51t",
    "outputId": "ad15b252-9582-48db-8f4b-508d78f2b3bb"
   },
   "outputs": [
    {
     "data": {
      "image/png": "[encoded data removed]",
      "text/plain": [
       "<Figure size 1152x432 with 1 Axes>"
      ]
     },
     "metadata": {
      "tags": []
     },
     "output_type": "display_data"
    }
   ],
   "source": [
    "df_comp.plot.bar(figsize=(16, 6))\n",
    "plt.title('Overall Absolute Error')\n",
    "plt.ylim(0,120)\n",
    "plt.xlim(9,30)\n",
    "plt.show()"
   ]
  },
  {
   "cell_type": "code",
   "execution_count": 0,
   "metadata": {
    "colab": {},
    "colab_type": "code",
    "id": "DtkUGsYvABYt"
   },
   "outputs": [],
   "source": []
  },
  {
   "cell_type": "markdown",
   "metadata": {
    "colab_type": "text",
    "id": "zLnhDw6RGOaL"
   },
   "source": [
    "Conclusion: For this small data and test set, any of these approaches would be equally good (or bad). It will be interesting to see how RNNs and other models better suited to time series data will perform on large data sets."
   ]
  },
  {
   "cell_type": "code",
   "execution_count": 0,
   "metadata": {
    "colab": {},
    "colab_type": "code",
    "id": "eTPFP3npH9kY"
   },
   "outputs": [],
   "source": []
  }
 ],
 "metadata": {
  "accelerator": "GPU",
  "colab": {
   "collapsed_sections": [],
   "name": "RegressionAnalysisGoogleData.ipynb",
   "provenance": [],
   "version": "0.3.2"
  },
  "kernelspec": {
   "display_name": "Python 3",
   "language": "python",
   "name": "python3"
  },
  "language_info": {
   "codemirror_mode": {
    "name": "ipython",
    "version": 3
   },
   "file_extension": ".py",
   "mimetype": "text/x-python",
   "name": "python",
   "nbconvert_exporter": "python",
   "pygments_lexer": "ipython3",
   "version": "3.6.5"
  }
 },
 "nbformat": 4,
 "nbformat_minor": 1
}
